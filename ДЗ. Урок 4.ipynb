{
 "cells": [
  {
   "cell_type": "markdown",
   "id": "60568598",
   "metadata": {},
   "source": [
    "__3*.__ Решите систему линейных уравнений методом $LU$-разложения:\n",
    "\n",
    "$$\\begin{cases}\n",
    "2x_{1}+x_{2}+3x_{3}=1 \\\\\n",
    "11x_{1}+7x_{2}+5x_{3}=-6 \\\\\n",
    "9x_{1}+8x_{2}+4x_{3}=-5\n",
    "\\end{cases}$$"
   ]
  },
  {
   "cell_type": "code",
   "execution_count": 4,
   "id": "5ea2d3aa",
   "metadata": {},
   "outputs": [],
   "source": [
    "import numpy as np\n",
    "import scipy\n",
    "from scipy.linalg import lu"
   ]
  },
  {
   "cell_type": "code",
   "execution_count": 20,
   "id": "8e53c3af",
   "metadata": {},
   "outputs": [],
   "source": [
    "A = np.array([[2, 1, 3], [11, 7, 5], [9, 8, 4]])\n",
    "b = np.array([1, -6, -5])"
   ]
  },
  {
   "cell_type": "code",
   "execution_count": 21,
   "id": "85a26ce9",
   "metadata": {},
   "outputs": [
    {
     "data": {
      "text/plain": [
       "array([ 3.38461538, -3.11538462, -2.88461538])"
      ]
     },
     "execution_count": 21,
     "metadata": {},
     "output_type": "execute_result"
    }
   ],
   "source": [
    "def solve_LU(A, b):\n",
    "    P, L, U = scipy.linalg.lu(A)\n",
    "    y = np.dot(np.linalg.inv(L), b)\n",
    "    x = np.dot(np.linalg.inv(U), y)\n",
    "    return x\n",
    "\n",
    "\n",
    "x = solve_LU(A, b)\n",
    "x"
   ]
  },
  {
   "cell_type": "code",
   "execution_count": 22,
   "id": "70e7b916",
   "metadata": {},
   "outputs": [
    {
     "data": {
      "text/plain": [
       "array([-5.,  1., -6.])"
      ]
     },
     "execution_count": 22,
     "metadata": {},
     "output_type": "execute_result"
    }
   ],
   "source": [
    "# проверка A * x = b\n",
    "np.dot(A, x)"
   ]
  },
  {
   "cell_type": "markdown",
   "id": "e30ca9a1",
   "metadata": {},
   "source": [
    "Вопрос преподавателю: \n",
    "\n",
    "1)верно ли решение, учитывая, что порядок чисел в векторе b после проверки и в заданном векторе b отличается? \n",
    "\n",
    "2)ниже я решила без разложения и ответы совпали с теми, что я решила на листике, делая разложение, а при проверке порядок чисел в векторе b правильный."
   ]
  },
  {
   "cell_type": "code",
   "execution_count": 23,
   "id": "e1deb742",
   "metadata": {},
   "outputs": [
    {
     "data": {
      "text/plain": [
       "array([-1.,  0.,  1.])"
      ]
     },
     "execution_count": 23,
     "metadata": {},
     "output_type": "execute_result"
    }
   ],
   "source": [
    "z = np.linalg.solve(A, b)\n",
    "z"
   ]
  },
  {
   "cell_type": "code",
   "execution_count": 24,
   "id": "f28c1a85",
   "metadata": {},
   "outputs": [
    {
     "data": {
      "text/plain": [
       "array([ 1., -6., -5.])"
      ]
     },
     "execution_count": 24,
     "metadata": {},
     "output_type": "execute_result"
    }
   ],
   "source": [
    "np.dot(A, z)"
   ]
  },
  {
   "cell_type": "code",
   "execution_count": null,
   "id": "24d245d5",
   "metadata": {},
   "outputs": [],
   "source": []
  }
 ],
 "metadata": {
  "kernelspec": {
   "display_name": "Python 3 (ipykernel)",
   "language": "python",
   "name": "python3"
  },
  "language_info": {
   "codemirror_mode": {
    "name": "ipython",
    "version": 3
   },
   "file_extension": ".py",
   "mimetype": "text/x-python",
   "name": "python",
   "nbconvert_exporter": "python",
   "pygments_lexer": "ipython3",
   "version": "3.9.12"
  }
 },
 "nbformat": 4,
 "nbformat_minor": 5
}
