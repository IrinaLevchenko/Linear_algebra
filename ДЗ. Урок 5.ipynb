{
 "cells": [
  {
   "cell_type": "markdown",
   "id": "f5deb47e",
   "metadata": {},
   "source": [
    "1. Найдите посредством NumPy SVD для матрицы:\n",
    "\n",
    "$$\\begin{pmatrix}\n",
    "1 & 2 & 0\\\\ \n",
    "0 & 0 & 5\\\\ \n",
    "3 & -4 & 2\\\\ \n",
    "1 & 6 & 5\\\\ \n",
    "0 & 1 & 0\n",
    "\\end{pmatrix}.$$"
   ]
  },
  {
   "cell_type": "code",
   "execution_count": 2,
   "id": "8a721a6d",
   "metadata": {},
   "outputs": [],
   "source": [
    "import numpy as np"
   ]
  },
  {
   "cell_type": "code",
   "execution_count": 3,
   "id": "fd263411",
   "metadata": {},
   "outputs": [],
   "source": [
    "A = np.matrix([[1, 2, 0], [0, 0, 5], [3, -4, 2], [1, 6, 5], [0, 1, 0]])\n",
    "U, s, W = np.linalg.svd(A)"
   ]
  },
  {
   "cell_type": "code",
   "execution_count": 5,
   "id": "f91426f9",
   "metadata": {},
   "outputs": [],
   "source": [
    "V = W.T\n",
    "D = np.zeros_like(A, dtype=float)\n",
    "D[np.diag_indices(min(A.shape))] = s"
   ]
  },
  {
   "cell_type": "code",
   "execution_count": 6,
   "id": "59671623",
   "metadata": {},
   "outputs": [
    {
     "data": {
      "text/plain": [
       "matrix([[ 1,  2,  0],\n",
       "        [ 0,  0,  5],\n",
       "        [ 3, -4,  2],\n",
       "        [ 1,  6,  5],\n",
       "        [ 0,  1,  0]])"
      ]
     },
     "execution_count": 6,
     "metadata": {},
     "output_type": "execute_result"
    }
   ],
   "source": [
    "A"
   ]
  },
  {
   "cell_type": "code",
   "execution_count": 7,
   "id": "2954ce5f",
   "metadata": {},
   "outputs": [
    {
     "data": {
      "text/plain": [
       "matrix([[ 0.17056501,  0.15680918, -0.53077508, -0.79905375, -0.16158397],\n",
       "        [ 0.39287016, -0.52933945,  0.6134793 , -0.43375771,  0.03082495],\n",
       "        [-0.14366152, -0.82449256, -0.52379105,  0.14049848,  0.07400343],\n",
       "        [ 0.88843702,  0.06074346, -0.24655277,  0.37755832, -0.06042632],\n",
       "        [ 0.08125046,  0.10831843, -0.08231425, -0.10524851,  0.98173958]])"
      ]
     },
     "execution_count": 7,
     "metadata": {},
     "output_type": "execute_result"
    }
   ],
   "source": [
    "U"
   ]
  },
  {
   "cell_type": "code",
   "execution_count": 8,
   "id": "f6ac37c0",
   "metadata": {},
   "outputs": [
    {
     "data": {
      "text/plain": [
       "matrix([[8.82486885, 0.        , 0.        ],\n",
       "        [0.        , 6.14060608, 0.        ],\n",
       "        [0.        , 0.        , 2.53271528],\n",
       "        [0.        , 0.        , 0.        ],\n",
       "        [0.        , 0.        , 0.        ]])"
      ]
     },
     "execution_count": 8,
     "metadata": {},
     "output_type": "execute_result"
    }
   ],
   "source": [
    "D"
   ]
  },
  {
   "cell_type": "code",
   "execution_count": 9,
   "id": "795761be",
   "metadata": {},
   "outputs": [
    {
     "data": {
      "text/plain": [
       "matrix([[ 0.07116451, -0.36737824, -0.92734505],\n",
       "        [ 0.71702467,  0.66514082, -0.20847855],\n",
       "        [ 0.69340553, -0.65009301,  0.31075368]])"
      ]
     },
     "execution_count": 9,
     "metadata": {},
     "output_type": "execute_result"
    }
   ],
   "source": [
    "V"
   ]
  },
  {
   "cell_type": "code",
   "execution_count": 13,
   "id": "a3ee5019",
   "metadata": {},
   "outputs": [
    {
     "data": {
      "text/plain": [
       "matrix([[ 1.00000000e+00,  2.00000000e+00, -1.72084569e-15],\n",
       "        [-6.66133815e-16,  6.66133815e-16,  5.00000000e+00],\n",
       "        [ 3.00000000e+00, -4.00000000e+00,  2.00000000e+00],\n",
       "        [ 1.00000000e+00,  6.00000000e+00,  5.00000000e+00],\n",
       "        [ 5.55111512e-17,  1.00000000e+00,  0.00000000e+00]])"
      ]
     },
     "execution_count": 13,
     "metadata": {},
     "output_type": "execute_result"
    }
   ],
   "source": [
    "# проверка\n",
    "np.dot(np.dot(U, D), V.T)"
   ]
  },
  {
   "cell_type": "markdown",
   "id": "b5854ac6",
   "metadata": {},
   "source": [
    "\n",
    "2. Для матрицы из предыдущего задания найдите:\n",
    "\n",
    "    а) евклидову норму;\n",
    "    \n",
    "    б) норму Фробениуса."
   ]
  },
  {
   "cell_type": "code",
   "execution_count": 18,
   "id": "3578e371",
   "metadata": {},
   "outputs": [
    {
     "data": {
      "text/plain": [
       "8.824868854820448"
      ]
     },
     "execution_count": 18,
     "metadata": {},
     "output_type": "execute_result"
    }
   ],
   "source": [
    "# евклидова норма равна наибольшему сингулярному числу(мю1)\n",
    "s[0] "
   ]
  },
  {
   "cell_type": "code",
   "execution_count": 19,
   "id": "279855bc",
   "metadata": {},
   "outputs": [
    {
     "data": {
      "text/plain": [
       "8.824868854820442"
      ]
     },
     "execution_count": 19,
     "metadata": {},
     "output_type": "execute_result"
    }
   ],
   "source": [
    "# второй способ найти евклидову норму\n",
    "np.linalg.norm(A, ord=2)"
   ]
  },
  {
   "cell_type": "code",
   "execution_count": 20,
   "id": "199adc6c",
   "metadata": {},
   "outputs": [
    {
     "data": {
      "text/plain": [
       "11.045361017187261"
      ]
     },
     "execution_count": 20,
     "metadata": {},
     "output_type": "execute_result"
    }
   ],
   "source": [
    "# норма Фробениуса\n",
    "np.linalg.norm(A)"
   ]
  },
  {
   "cell_type": "code",
   "execution_count": null,
   "id": "379c7c5c",
   "metadata": {},
   "outputs": [],
   "source": []
  }
 ],
 "metadata": {
  "kernelspec": {
   "display_name": "Python 3 (ipykernel)",
   "language": "python",
   "name": "python3"
  },
  "language_info": {
   "codemirror_mode": {
    "name": "ipython",
    "version": 3
   },
   "file_extension": ".py",
   "mimetype": "text/x-python",
   "name": "python",
   "nbconvert_exporter": "python",
   "pygments_lexer": "ipython3",
   "version": "3.9.12"
  }
 },
 "nbformat": 4,
 "nbformat_minor": 5
}
